{
 "cells": [
  {
   "cell_type": "markdown",
   "source": [
    "## Yum or Yuck Butterfly Mimics 2022 – Baseline Model\n",
    "\n",
    "**Author:** [Keith Pinson](https://github.com/keithpinson)<br>\n",
    "**Date created:** 2022/06/11<br>\n",
    "**Version:** 1.0.0001<br>\n",
    "**Description:** A simple transfer learning model to establish a baseline score for a Kaggle Community Competition.<br>\n",
    "**Platform:** Kaggle Packages including Tensorflow 2.6.3 with GPU<br>\n",
    "<br>\n",
    "\n",
    "![Butterfly Classification Diagram](DocResources/ButterflyClassificationTransferLearning-854.png)\n",
    "\n",
    "We will use the pre-trained weights of the Resnet50 convolutional neural network with the Imagenet dataset.  The final classification layers will be replaced with our own dense layers to make the butterfly classifier."
   ],
   "metadata": {
    "collapsed": false,
    "pycharm": {
     "name": "#%% md\n"
    }
   }
  },
  {
   "cell_type": "code",
   "execution_count": 1,
   "outputs": [
    {
     "name": "stdout",
     "output_type": "stream",
     "text": [
      "executed 2022-06-18 09:05:07 local time\n"
     ]
    }
   ],
   "source": [
    "import datetime;\n",
    "\n",
    "print(\"executed\",datetime.datetime.now().strftime(\"%Y-%m-%d %H:%M:%S\"),\"local time\")"
   ],
   "metadata": {
    "collapsed": false,
    "pycharm": {
     "name": "#%%\n"
    }
   }
  },
  {
   "cell_type": "markdown",
   "source": [
    "---\n",
    "Using TensorFlow we will a build a butterfly image classifier that will be able to identify 6 remarkable North American butterflies.\n",
    "\n",
    "![Images of Black, Monarch, Pipevine, Spicebush, Tiger and Viceroy butterflies from the dataset](DocResources/the-butterflies.png)\n",
    "\n",
    "<br>\n",
    "This notebook will:\n",
    "\n",
    " - Load ResNet50 with the pre-trained Imagenet weights\n",
    " - Load the Butterfly Mimics dataset\n",
    " - Create a new set of feature weights using our own classifier\n",
    " - Predict the butterflies from the test\n",
    " - Show a sample of the results\n",
    " - Quantify the accuracy of the results\n",
    "\n"
   ],
   "metadata": {
    "collapsed": false,
    "pycharm": {
     "name": "#%% md\n"
    }
   }
  },
  {
   "cell_type": "markdown",
   "source": [
    "---\n",
    "## Set Hyperparameters\n",
    "---"
   ],
   "metadata": {
    "collapsed": false,
    "pycharm": {
     "name": "#%% md\n"
    }
   }
  },
  {
   "cell_type": "code",
   "execution_count": 45,
   "outputs": [],
   "source": [
    "# Hyper-parameters\n",
    "BATCH_SIZE = 32\n",
    "LEARNING_RATE = 0.0003\n",
    "NUMBER_OF_EPOCHS = 50\n",
    "\n",
    "# Other constants\n",
    "IMAGE_SIZE_H = IMAGE_SIZE_V = 224\n",
    "CHANNELS = 3\n",
    "MODEL_NAME = 'yoymimics'\n",
    "\n",
    "SEED = 43"
   ],
   "metadata": {
    "collapsed": false,
    "pycharm": {
     "name": "#%%\n"
    }
   }
  },
  {
   "cell_type": "markdown",
   "source": [
    "##\n",
    "---\n",
    "## Set Environment\n",
    "---\n"
   ],
   "metadata": {
    "collapsed": false,
    "pycharm": {
     "name": "#%% md\n"
    }
   }
  },
  {
   "cell_type": "code",
   "execution_count": 46,
   "outputs": [
    {
     "name": "stdout",
     "output_type": "stream",
     "text": [
      "Tensorflow 2.6.3 with GPU support\n"
     ]
    }
   ],
   "source": [
    "import os\n",
    "import platform\n",
    "import random\n",
    "\n",
    "import tensorflow as tf\n",
    "\n",
    "# Using TensorFlow's enhanced version of Numpy\n",
    "import tensorflow.experimental.numpy as np\n",
    "np.experimental_enable_numpy_behavior()\n",
    "\n",
    "import pandas as pd\n",
    "from sklearn import metrics\n",
    "from sklearn.model_selection import train_test_split\n",
    "import matplotlib.pyplot as plt\n",
    "import cv2\n",
    "\n",
    "# import tensorflow_datasets as tfds\n",
    "# from keras.preprocessing.image import ImageDataGenerator,load_img\n",
    "from keras.utils.np_utils import to_categorical\n",
    "from keras.utils.vis_utils import plot_model\n",
    "from keras.models import Sequential\n",
    "from keras.layers import Conv2D, \\\n",
    "     MaxPooling2D,Dropout,Flatten,Dense,Activation,BatchNormalization\n",
    "\n",
    "# from tensorflow_datasets.core.registered import DatasetNotFoundError\n",
    "\n",
    "import keras.utils.vis_utils\n",
    "import tensorflow.python.ops.gen_math_ops\n",
    "\n",
    "\n",
    "os.environ['PYTHONHASHSEED'] = str(SEED)\n",
    "random.seed = SEED\n",
    "np.random.seed = SEED\n",
    "tf.random.set_seed(SEED)\n",
    "\n",
    "print(f\"Tensorflow {tf.__version__}\", \"with GPU support\" if len(tf.config.list_physical_devices('GPU')) > 0 else \"for CPU only\")"
   ],
   "metadata": {
    "collapsed": false,
    "pycharm": {
     "name": "#%%\n"
    }
   }
  },
  {
   "cell_type": "markdown",
   "source": [
    "##\n",
    "---\n",
    "## Load Pre-trained Weights\n",
    "---"
   ],
   "metadata": {
    "collapsed": false,
    "pycharm": {
     "name": "#%% md\n"
    }
   }
  },
  {
   "cell_type": "code",
   "execution_count": 47,
   "outputs": [],
   "source": [
    "from keras.applications.resnet import ResNet50\n",
    "\n",
    "resnet50 = ResNet50(weights='imagenet', include_top=False, input_shape=(IMAGE_SIZE_H, IMAGE_SIZE_V, CHANNELS))"
   ],
   "metadata": {
    "collapsed": false,
    "pycharm": {
     "name": "#%%\n"
    }
   }
  },
  {
   "cell_type": "markdown",
   "source": [
    "##\n",
    "---\n",
    "## Load Dataset\n",
    "---\n",
    "\n",
    "Our purpose here is to set a baseline score for classifying the images from the Butterfly Mimics 2022 Dataset.\n",
    "\n",
    "The dataset consists of JPG images of an individual butterfly. In the training data we are given a label that identifies the class of each butterfly as either black, monarch, pipevine, spicebush, tiger, or viceroy.\n",
    "\n",
    "![Tiger Swallowtail Butterfly](DocResources/tiger_female_dark_form_vyaa1ee082.jpg)\n",
    "\n",
    "```python\n",
    "X = vyaa1ee082.jpg # Features tensor\n",
    "y = \"tiger\"        # Target vector\n",
    "```\n",
    "\n",
    "We will split the dataset into training and validation data. It should be noted that in order to avoid leaking any test data, we will use these splits and not the `'image_holdouts'` provided for the competition to generate our baseline scores.\n",
    "\n",
    "The following variables will be helpful to work with the data:\n",
    "\n",
    " - xy_index `{'X': 0, 'y': 1}`\n",
    " - supervised_keys `['image', 'label']`\n",
    " - class_to_string `{0: 'black', 1: 'monarch', 2: 'pipevine', 3: 'spicebush', 4: 'tiger', 5: 'viceroy'}`\n",
    "\n",
    "We will split the training data into a number of folds for cross validation:\n",
    "\n",
    " - training_folds\n",
    " - validation_folds\n",
    "\n",
    "Finally, we will load the test data:\n",
    "\n",
    " - test_data\n",
    "\n"
   ],
   "metadata": {
    "collapsed": false,
    "pycharm": {
     "name": "#%% md\n"
    }
   }
  },
  {
   "cell_type": "code",
   "execution_count": null,
   "outputs": [],
   "source": [
    "def set_data_variables():\n",
    "\n",
    "    xy_index = {'X': 0, 'y': 1}\n",
    "\n",
    "    supervised_keys = ['image', 'label']\n",
    "\n",
    "    class_to_str = {0: 'black', 1: 'monarch', 2: 'pipevine', 3: 'spicebush', 4: 'tiger', 5: 'viceroy'}\n",
    "\n",
    "    return xy_index, supervised_keys, class_to_str\n",
    "\n",
    "\n",
    "xy_index, sup_keys, class2str, num_channels = set_data_variables()"
   ],
   "metadata": {
    "collapsed": false,
    "pycharm": {
     "name": "#%%\n"
    }
   }
  },
  {
   "cell_type": "code",
   "execution_count": null,
   "outputs": [],
   "source": [
    "def load_butterfly_training_folds():\n",
    "    pass\n",
    "\n",
    "train_folds, val_folds = load_butterfly_training_folds()\n"
   ],
   "metadata": {
    "collapsed": false,
    "pycharm": {
     "name": "#%%\n"
    }
   }
  },
  {
   "cell_type": "code",
   "execution_count": null,
   "outputs": [],
   "source": [
    "def load_butterfly_test():\n",
    "    pass\n",
    "\n",
    "test_data = load_butterfly_test()\n"
   ],
   "metadata": {
    "collapsed": false,
    "pycharm": {
     "name": "#%%\n"
    }
   }
  },
  {
   "cell_type": "markdown",
   "source": [
    "### <u>The train/validate splits</u>\n",
    "\n"
   ],
   "metadata": {
    "collapsed": false,
    "pycharm": {
     "name": "#%% md\n"
    }
   }
  },
  {
   "cell_type": "code",
   "execution_count": null,
   "outputs": [],
   "source": [],
   "metadata": {
    "collapsed": false,
    "pycharm": {
     "name": "#%%\n"
    }
   }
  }
 ],
 "metadata": {
  "kernelspec": {
   "name": "python3",
   "language": "python",
   "display_name": "Python 3 (ipykernel)"
  },
  "language_info": {
   "codemirror_mode": {
    "name": "ipython",
    "version": 2
   },
   "file_extension": ".py",
   "mimetype": "text/x-python",
   "name": "python",
   "nbconvert_exporter": "python",
   "pygments_lexer": "ipython2",
   "version": "2.7.6"
  }
 },
 "nbformat": 4,
 "nbformat_minor": 0
}