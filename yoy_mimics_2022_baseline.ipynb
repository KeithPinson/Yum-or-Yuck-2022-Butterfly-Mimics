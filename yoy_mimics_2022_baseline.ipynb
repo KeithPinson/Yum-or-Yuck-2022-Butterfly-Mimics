{
 "cells": [
  {
   "cell_type": "markdown",
   "source": [
    "# Yum or Yuck Butterfly Mimics 2022\n",
    "## Baseline Model\n",
    "\n",
    "A simple Resnet50 transfer learning model using the\n",
    "CIFAR-100 dataset to establish a baseline score for\n",
    "the Kaggle Community Competition."
   ],
   "metadata": {
    "collapsed": false,
    "pycharm": {
     "name": "#%% md\n"
    }
   }
  },
  {
   "cell_type": "code",
   "execution_count": 4,
   "outputs": [
    {
     "name": "stdout",
     "output_type": "stream",
     "text": [
      "executed 2022-06-14 20:08:47 local time\n"
     ]
    }
   ],
   "source": [
    "import datetime;\n",
    "\n",
    "import keras.utils.vis_utils\n",
    "import tensorflow.python.ops.gen_math_ops\n",
    "\n",
    "print(\"executed\",datetime.datetime.now().strftime(\"%Y-%m-%d %H:%M:%S\"),\"local time\")"
   ],
   "metadata": {
    "collapsed": false,
    "pycharm": {
     "name": "#%%\n"
    }
   }
  },
  {
   "cell_type": "markdown",
   "source": [
    "---\n",
    "\n",
    "![Butterfly Classification Diagram](DocResources/ButterflyClassificationTransferLearning-854.png)\n",
    "\n",
    "Using Tensorflow we will use the weights of the pre-trained Resnet50 convolutional neural network and\n",
    "replace the last classification layer with our own to classify an image of a butterfly.\n",
    "\n",
    "In this example we will:\n",
    "\n",
    " - Load a dataset using TensorFlow CIFAR-100 Dataset\n",
    " - Build a CNN (Convolutional Neural Network)\n",
    " - Use TensorFlow 2 Fit, Evaluate, and Predict operations\n",
    " - Show a sample of the results\n",
    " - Quantify the accuracy of the results\n",
    "\n",
    "<br>\n",
    "\n",
    "---"
   ],
   "metadata": {
    "collapsed": false,
    "pycharm": {
     "name": "#%% md\n"
    }
   }
  },
  {
   "cell_type": "markdown",
   "source": [
    "---\n",
    "## Set Hyperparameters\n",
    "---"
   ],
   "metadata": {
    "collapsed": false,
    "pycharm": {
     "name": "#%% md\n"
    }
   }
  },
  {
   "cell_type": "code",
   "execution_count": null,
   "outputs": [],
   "source": [
    "# Hyper-parameters\n",
    "BATCH_SIZE = 32\n",
    "LEARNING_RATE = 0.0003\n",
    "NUMBER_OF_EPOCHS = 50\n",
    "\n",
    "IMAGE_SIZE_H = IMAGE_SIZE_V = [224]\n",
    "MODEL_NAME = 'yoymimics'\n",
    "\n",
    "SEED = 43"
   ],
   "metadata": {
    "collapsed": false,
    "pycharm": {
     "name": "#%%\n"
    }
   }
  },
  {
   "cell_type": "markdown",
   "source": [
    "##\n",
    "---\n",
    "## Set Environment\n",
    "---\n"
   ],
   "metadata": {
    "collapsed": false,
    "pycharm": {
     "name": "#%% md\n"
    }
   }
  },
  {
   "cell_type": "code",
   "execution_count": null,
   "outputs": [],
   "source": [
    "import os\n",
    "import platform\n",
    "import random\n",
    "\n",
    "import tensorflow as tf\n",
    "\n",
    "# Using TensorFlow's enhanced version of Numpy\n",
    "import tensorflow.experimental.numpy as np\n",
    "np.experimental_enable_numpy_behavior()\n",
    "\n",
    "import pandas as pd\n",
    "from sklearn import metrics\n",
    "from sklearn.model_selection import train_test_split\n",
    "import matplotlib.pyplot as plt\n",
    "import cv2\n",
    "\n",
    "import tensorflow_datasets as tfds\n",
    "from keras.preprocessing.image import ImageDataGenerator,load_img\n",
    "from keras.utils.np_utils import to_categorical\n",
    "from keras.utils.vis_utils import plot_model\n",
    "from keras.models import Sequential\n",
    "from keras.layers import Conv2D, \\\n",
    "     MaxPooling2D,Dropout,Flatten,Dense,Activation,BatchNormalization\n",
    "\n",
    "from tensorflow_datasets.core.registered import DatasetNotFoundError\n",
    "\n",
    "os.environ['PYTHONHASHSEED'] = str(SEED)\n",
    "random.seed = SEED\n",
    "np.random.seed = SEED\n",
    "tf.random.set_seed(SEED)\n",
    "\n",
    "print(f\"Tensorflow {tf.__version__}\", \"with GPU support\" if len(tf.config.list_physical_devices('GPU')) > 0 else \"for CPU only\")"
   ],
   "metadata": {
    "collapsed": false,
    "pycharm": {
     "name": "#%%\n"
    }
   }
  },
  {
   "cell_type": "markdown",
   "source": [
    "##\n",
    "---\n",
    "## Load Dataset\n",
    "---\n",
    "\n",
    "Our purpose here is to set a baseline score for classifying the\n",
    "images from the Butterfly Mimics 2022 Dataset.\n",
    "\n",
    "![Images of Black, Monarch, Pipevine, Spicebush, Tiger and Viceroy butterflies from the dataset](DocResources/the-butterflies.png)\n",
    "\n",
    "The dataset consists of JPG images of an individual butterfly\n",
    "and in the training data, a list of labels that identifies the\n",
    "class of each butterfly as either black, monarch, pipevine,\n",
    "spicebush, tiger, or viceroy. The classifier will of course need\n",
    "to predict the label of the image.\n",
    "\n",
    "![Tiger Swallowtail Butterfly](DocResources/tiger_female_dark_form_vyaa1ee082.jpg)\n",
    "\n",
    "```python\n",
    "X = vyaa1ee082.jpg # Features tensor\n",
    "y = \"tiger\"        # Target vector\n",
    "```\n",
    "\n",
    "We will split the dataset into training and validation data. To work with\n",
    "the splits we will set the following variables:\n",
    "\n",
    " - training split\n",
    " - validation split\n",
    " - xy_index `{'X': 0, 'y': 1}`\n",
    " - supervised_keys `['image', 'label']`\n",
    " - class_to_string `{0: 'black', 1: 'monarch', 2: 'pipevine', 3: 'spicebush', 4: 'tiger', 5: 'viceroy'}`\n",
    " - number_of_channels\n"
   ],
   "metadata": {
    "collapsed": false,
    "pycharm": {
     "name": "#%% md\n"
    }
   }
  },
  {
   "cell_type": "markdown",
   "source": [
    "### <u>The train/validate splits</u>\n",
    "\n"
   ],
   "metadata": {
    "collapsed": false,
    "pycharm": {
     "name": "#%% md\n"
    }
   }
  },
  {
   "cell_type": "code",
   "execution_count": null,
   "outputs": [],
   "source": [],
   "metadata": {
    "collapsed": false,
    "pycharm": {
     "name": "#%%\n"
    }
   }
  }
 ],
 "metadata": {
  "kernelspec": {
   "display_name": "Python 3",
   "language": "python",
   "name": "python3"
  },
  "language_info": {
   "codemirror_mode": {
    "name": "ipython",
    "version": 2
   },
   "file_extension": ".py",
   "mimetype": "text/x-python",
   "name": "python",
   "nbconvert_exporter": "python",
   "pygments_lexer": "ipython2",
   "version": "2.7.6"
  }
 },
 "nbformat": 4,
 "nbformat_minor": 0
}